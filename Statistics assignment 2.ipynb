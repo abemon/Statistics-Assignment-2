{
 "cells": [
  {
   "cell_type": "code",
   "execution_count": 1,
   "metadata": {},
   "outputs": [],
   "source": [
    "import pandas as pd\n",
    "import numpy as np"
   ]
  },
  {
   "cell_type": "code",
   "execution_count": null,
   "metadata": {},
   "outputs": [],
   "source": [
    "#1: A test is conducted which is consisting of 20 MCQs (multiple choices questions) with every \n",
    "#MCQ having its four options out of which only one is correct. Determine the probability that a \n",
    "#person undertaking that test has answered exactly 5 questions wrong.\n",
    "\n",
    "n = 20, n - k = 5, k = 20 - 5 = 15 \n",
    "\n",
    "probability of giving a right answer = s = 1/4\n",
    "\n",
    "Hence, the probability of failure = probability of giving a wrong answer = 1 - s \n",
    "= 1 - 1/4\n",
    "= 3/4\n",
    "    \n",
    "P (exactly 5 out of 20 answers incorrect) = C (20, 5) * (1/4) 15 * (3/4) 5\n",
    "\n",
    "P (5 out of 20) = (20∗19∗18∗17∗16)/(5∗4∗3∗2∗1) * (1/4) 15 * (3/4) 5\n",
    "\n",
    "= 0.0000034 \n",
    "\n",
    "Thus the required probability is 0.0000034 approximately.    "
   ]
  },
  {
   "cell_type": "code",
   "execution_count": null,
   "metadata": {},
   "outputs": [],
   "source": [
    "#2 A die marked A to E is rolled 50 times. Find the probability of getting a “D” exactly 5 times.\n",
    "\n",
    "Solution:\n",
    "\n",
    "Here, n = 50, k = 5, n - k = 45.\n",
    "\n",
    "The probability of success = probability of getting a “D”= s = 1/5\n",
    "\n",
    "\n",
    "Hence, the probability of failure = probability of not getting a “D” = 1 - s = 4/5\n",
    ".\n",
    "\n"
   ]
  },
  {
   "cell_type": "code",
   "execution_count": null,
   "metadata": {},
   "outputs": [],
   "source": [
    "#3Two balls are drawn at random in succession without replacement from an urn \n",
    "#containing 4 red balls and 6 black balls.Find the probabilities of all the possible outcomes.\n",
    "\n"
   ]
  }
 ],
 "metadata": {
  "kernelspec": {
   "display_name": "Python 3",
   "language": "python",
   "name": "python3"
  },
  "language_info": {
   "codemirror_mode": {
    "name": "ipython",
    "version": 3
   },
   "file_extension": ".py",
   "mimetype": "text/x-python",
   "name": "python",
   "nbconvert_exporter": "python",
   "pygments_lexer": "ipython3",
   "version": "3.6.5"
  }
 },
 "nbformat": 4,
 "nbformat_minor": 2
}
